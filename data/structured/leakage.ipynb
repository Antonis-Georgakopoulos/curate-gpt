{
 "cells": [
  {
   "cell_type": "code",
   "execution_count": 5,
   "metadata": {},
   "outputs": [
    {
     "name": "stdout",
     "output_type": "stream",
     "text": [
      "Processed train data saved to BAO_train_set_processed.json\n"
     ]
    }
   ],
   "source": [
    "import json\n",
    "import os\n",
    "\n",
    "def load_json(file_path):\n",
    "    with open(file_path, 'r', encoding='utf-8') as file:\n",
    "        return json.load(file)\n",
    "\n",
    "def save_json(data, file_path):\n",
    "    with open(file_path, 'w', encoding='utf-8') as file:\n",
    "        json.dump(data, file, ensure_ascii=False, indent=4)\n",
    "\n",
    "def process_files(eval_file_path, train_file_path, output_train_file_path):\n",
    "    # Load the JSON files\n",
    "    eval_data = load_json(eval_file_path)\n",
    "    train_data = load_json(train_file_path)\n",
    "    \n",
    "    # Extract prefLabels from eval data\n",
    "    eval_pref_labels = {entry['prefLabel'] for entry in eval_data}\n",
    "    \n",
    "    # Filter train data\n",
    "    new_train_data = []\n",
    "    for entry in train_data:\n",
    "        if entry['prefLabel'] in eval_pref_labels:\n",
    "            continue\n",
    "        if 'relationships' in entry and entry['relationships'] is not None:\n",
    "            new_relationships = [rel for rel in entry['relationships'] if rel['target'] not in eval_pref_labels]\n",
    "            entry['relationships'] = new_relationships\n",
    "        new_train_data.append(entry)\n",
    "    \n",
    "    # Save the modified train data to a new file\n",
    "    save_json(new_train_data, output_train_file_path)\n",
    "\n",
    "if __name__ == \"__main__\":\n",
    "    eval_file_path = 'BAO_eval_set.json'  # Path to the eval file\n",
    "    train_file_path = 'BAO_train_set.json'  # Path to the train file (change this accordingly)\n",
    "    output_train_file_path = 'BAO_train_set_processed.json'  # Path to save the processed train file\n",
    "    \n",
    "    process_files(eval_file_path, train_file_path, output_train_file_path)\n",
    "    print(f\"Processed train data saved to {output_train_file_path}\")\n"
   ]
  },
  {
   "cell_type": "code",
   "execution_count": 4,
   "metadata": {},
   "outputs": [
    {
     "name": "stdout",
     "output_type": "stream",
     "text": [
      "Processed eval data saved to BAO_eval_set_processed.json\n",
      "Processed train data saved to BAO_train_set_processed.json\n"
     ]
    }
   ],
   "source": [
    "# Converting ids to prefLabel for the BAO dataset (relationship properties)\n",
    "\n",
    "import json\n",
    "\n",
    "def load_json(file_path):\n",
    "    with open(file_path, 'r', encoding='utf-8') as file:\n",
    "        return json.load(file)\n",
    "\n",
    "def save_json(data, file_path):\n",
    "    with open(file_path, 'w', encoding='utf-8') as file:\n",
    "        json.dump(data, file, ensure_ascii=False, indent=4)\n",
    "\n",
    "def create_id_to_prefLabel_map(eval_data, train_data):\n",
    "    id_to_prefLabel = {entry['id']: entry['prefLabel'] for entry in eval_data}\n",
    "    id_to_prefLabel.update({entry['id']: entry['prefLabel'] for entry in train_data})\n",
    "    return id_to_prefLabel\n",
    "\n",
    "def update_relationships(data, id_to_prefLabel):\n",
    "    for entry in data:\n",
    "        if 'relationships' in entry and entry['relationships']:\n",
    "            for rel in entry['relationships']:\n",
    "                if rel['target'] in id_to_prefLabel:\n",
    "                    rel['target'] = id_to_prefLabel[rel['target']]\n",
    "    return data\n",
    "\n",
    "def process_files(eval_file_path, train_file_path, output_eval_file_path, output_train_file_path):\n",
    "    # Load the JSON files\n",
    "    eval_data = load_json(eval_file_path)\n",
    "    train_data = load_json(train_file_path)\n",
    "\n",
    "    # Create a mapping from id to prefLabel for both datasets\n",
    "    id_to_prefLabel = create_id_to_prefLabel_map(eval_data, train_data)\n",
    "\n",
    "    # Update relationships in eval data\n",
    "    updated_eval_data = update_relationships(eval_data, id_to_prefLabel)\n",
    "\n",
    "    # Update relationships in train data\n",
    "    updated_train_data = update_relationships(train_data, id_to_prefLabel)\n",
    "\n",
    "    # Save the updated JSON files\n",
    "    save_json(updated_eval_data, output_eval_file_path)\n",
    "    save_json(updated_train_data, output_train_file_path)\n",
    "\n",
    "if __name__ == \"__main__\":\n",
    "    eval_file_path = 'BAO_eval_set.json'  # Path to the eval file\n",
    "    train_file_path = 'BAO_train_set.json'  # Path to the train file\n",
    "    output_eval_file_path = 'BAO_eval_set_processed.json'  # Path to save the processed eval file\n",
    "    output_train_file_path = 'BAO_train_set_processed.json'  # Path to save the processed train file\n",
    "\n",
    "    process_files(eval_file_path, train_file_path, output_eval_file_path, output_train_file_path)\n",
    "    print(f\"Processed eval data saved to {output_eval_file_path}\")\n",
    "    print(f\"Processed train data saved to {output_train_file_path}\")\n"
   ]
  }
 ],
 "metadata": {
  "kernelspec": {
   "display_name": "curate-gpt-Yn8kmeuk-py3.11",
   "language": "python",
   "name": "python3"
  },
  "language_info": {
   "codemirror_mode": {
    "name": "ipython",
    "version": 3
   },
   "file_extension": ".py",
   "mimetype": "text/x-python",
   "name": "python",
   "nbconvert_exporter": "python",
   "pygments_lexer": "ipython3",
   "version": "3.11.5"
  }
 },
 "nbformat": 4,
 "nbformat_minor": 2
}
